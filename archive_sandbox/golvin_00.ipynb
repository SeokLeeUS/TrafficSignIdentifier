{
 "cells": [
  {
   "cell_type": "code",
   "execution_count": 1,
   "metadata": {},
   "outputs": [],
   "source": [
    "import tensorflow as tf"
   ]
  },
  {
   "cell_type": "code",
   "execution_count": 2,
   "metadata": {},
   "outputs": [
    {
     "name": "stdout",
     "output_type": "stream",
     "text": [
      "Tensor(\"Const:0\", shape=(), dtype=string)\n"
     ]
    }
   ],
   "source": [
    "hello = tf.constant('Hello,Tensorflow!')\n",
    "print(hello)"
   ]
  },
  {
   "cell_type": "code",
   "execution_count": 3,
   "metadata": {},
   "outputs": [
    {
     "name": "stdout",
     "output_type": "stream",
     "text": [
      "Tensor(\"Const_1:0\", shape=(), dtype=string)\n"
     ]
    }
   ],
   "source": [
    "hello = tf.constant('hello,tensorflow!')\n",
    "print(hello)"
   ]
  },
  {
   "cell_type": "code",
   "execution_count": 4,
   "metadata": {},
   "outputs": [],
   "source": [
    "a = tf.constant(10)\n",
    "b = tf.constant(32)\n",
    "c = tf.add(a,b)"
   ]
  },
  {
   "cell_type": "code",
   "execution_count": 5,
   "metadata": {},
   "outputs": [
    {
     "name": "stdout",
     "output_type": "stream",
     "text": [
      "b'hello,tensorflow!'\n",
      "[10, 32, 42]\n"
     ]
    }
   ],
   "source": [
    "sess = tf.Session()\n",
    "print (sess.run(hello))\n",
    "print(sess.run([a,b,c,]))\n",
    "sess.close()"
   ]
  },
  {
   "cell_type": "code",
   "execution_count": 6,
   "metadata": {},
   "outputs": [
    {
     "name": "stdout",
     "output_type": "stream",
     "text": [
      "Tensor(\"Placeholder:0\", shape=(?, 3), dtype=float32)\n"
     ]
    }
   ],
   "source": [
    "X = tf.placeholder(tf.float32,[None,3])\n",
    "print(X)"
   ]
  },
  {
   "cell_type": "code",
   "execution_count": 7,
   "metadata": {},
   "outputs": [],
   "source": [
    "X = tf.placeholder(tf.float32,[None,3])"
   ]
  },
  {
   "cell_type": "code",
   "execution_count": 8,
   "metadata": {},
   "outputs": [],
   "source": [
    "X_data = [[1,2,3],[4,5,6]]"
   ]
  },
  {
   "cell_type": "code",
   "execution_count": 10,
   "metadata": {},
   "outputs": [
    {
     "data": {
      "text/plain": [
       "(2, 3)"
      ]
     },
     "execution_count": 10,
     "metadata": {},
     "output_type": "execute_result"
    }
   ],
   "source": [
    "import numpy as np\n",
    "X_data = np.array(X_data)\n",
    "X_data.shape"
   ]
  },
  {
   "cell_type": "code",
   "execution_count": 12,
   "metadata": {},
   "outputs": [],
   "source": [
    "W = tf.Variable(tf.random_normal([3,2]))\n",
    "b = tf.Variable(tf.random_normal([2,1]))"
   ]
  },
  {
   "cell_type": "code",
   "execution_count": 13,
   "metadata": {},
   "outputs": [],
   "source": [
    "W = tf.Variable([[0.1,0.1],[0.2,0.2],[0.3,0.3]])"
   ]
  },
  {
   "cell_type": "code",
   "execution_count": 14,
   "metadata": {},
   "outputs": [],
   "source": [
    "expr = tf.matmul(X,W)+b"
   ]
  },
  {
   "cell_type": "code",
   "execution_count": 15,
   "metadata": {},
   "outputs": [
    {
     "data": {
      "text/plain": [
       "TensorShape([Dimension(2), Dimension(2)])"
      ]
     },
     "execution_count": 15,
     "metadata": {},
     "output_type": "execute_result"
    }
   ],
   "source": [
    "expr.shape"
   ]
  },
  {
   "cell_type": "code",
   "execution_count": 22,
   "metadata": {},
   "outputs": [
    {
     "name": "stdout",
     "output_type": "stream",
     "text": [
      "[[1 2 3]\n",
      " [4 5 6]]\n",
      "[[ 0.1         0.1       ]\n",
      " [ 0.2         0.2       ]\n",
      " [ 0.30000001  0.30000001]]\n",
      "[[ 0.03646772]\n",
      " [-0.25234243]]\n",
      "[[ 1.43646777  1.43646777]\n",
      " [ 2.94765759  2.94765759]]\n"
     ]
    }
   ],
   "source": [
    "sess  = tf.Session()\n",
    "sess.run(tf.global_variables_initializer())\n",
    "\n",
    "print(X_data)\n",
    "print(sess.run(W))\n",
    "print(sess.run(b))\n",
    "print(sess.run(expr,feed_dict = {X:X_data}))"
   ]
  },
  {
   "cell_type": "code",
   "execution_count": 23,
   "metadata": {},
   "outputs": [],
   "source": [
    "x_data = [1,2,3]\n",
    "y_data = [1,2,3]"
   ]
  },
  {
   "cell_type": "code",
   "execution_count": 25,
   "metadata": {},
   "outputs": [],
   "source": [
    "W  =tf.Variable(tf.random_uniform([1],-1.0,1.0))\n",
    "b = tf.Variable(tf.random_uniform([1],-1.0,1.0))"
   ]
  },
  {
   "cell_type": "code",
   "execution_count": 26,
   "metadata": {},
   "outputs": [],
   "source": [
    "X = tf.placeholder(tf.float32,name = 'X')\n",
    "Y = tf.placeholder(tf.float32,name = 'Y')"
   ]
  },
  {
   "cell_type": "code",
   "execution_count": 27,
   "metadata": {},
   "outputs": [
    {
     "name": "stdout",
     "output_type": "stream",
     "text": [
      "Tensor(\"X:0\", dtype=float32)\n"
     ]
    }
   ],
   "source": [
    "print(X)"
   ]
  },
  {
   "cell_type": "code",
   "execution_count": 28,
   "metadata": {},
   "outputs": [],
   "source": [
    "n = tf.placeholder(tf.float32)"
   ]
  },
  {
   "cell_type": "code",
   "execution_count": 29,
   "metadata": {},
   "outputs": [
    {
     "name": "stdout",
     "output_type": "stream",
     "text": [
      "Tensor(\"Placeholder_2:0\", dtype=float32)\n"
     ]
    }
   ],
   "source": [
    "print(n)"
   ]
  },
  {
   "cell_type": "code",
   "execution_count": 30,
   "metadata": {},
   "outputs": [],
   "source": [
    "hypothesis = W*X+b"
   ]
  },
  {
   "cell_type": "code",
   "execution_count": 31,
   "metadata": {},
   "outputs": [],
   "source": [
    "cost = tf.reduce_mean(tf.square(hypothesis-Y))"
   ]
  },
  {
   "cell_type": "code",
   "execution_count": 32,
   "metadata": {},
   "outputs": [],
   "source": [
    "optimizer = tf.train.GradientDescentOptimizer(learning_rate = 0.1)\n",
    "train_op = optimizer.minimize(cost)"
   ]
  },
  {
   "cell_type": "code",
   "execution_count": 37,
   "metadata": {},
   "outputs": [
    {
     "name": "stdout",
     "output_type": "stream",
     "text": [
      "0 1.80081 [ 1.32384276] [-0.58392429]\n",
      "1 0.0739816 [ 1.25515926] [-0.59667653]\n",
      "2 0.0508619 [ 1.25568128] [-0.57940489]\n",
      "3 0.0482117 [ 1.24880731] [-0.56579643]\n",
      "4 0.0459188 [ 1.24290574] [-0.55216008]\n",
      "5 0.0437376 [ 1.23705769] [-0.53889036]\n",
      "6 0.04166 [ 1.23135996] [-0.52593535]\n",
      "7 0.0396811 [ 1.22579813] [-0.51329225]\n",
      "8 0.0377963 [ 1.22037017] [-0.50095302]\n",
      "9 0.0360009 [ 1.21507251] [-0.4889105]\n",
      "10 0.0342908 [ 1.20990241] [-0.47715741]\n",
      "11 0.032662 [ 1.2048564] [-0.46568692]\n",
      "12 0.0311105 [ 1.19993186] [-0.45449209]\n",
      "13 0.0296328 [ 1.19512558] [-0.44356641]\n",
      "14 0.0282252 [ 1.19043493] [-0.43290335]\n",
      "15 0.0268845 [ 1.18585694] [-0.42249665]\n",
      "16 0.0256074 [ 1.18138909] [-0.4123401]\n",
      "17 0.024391 [ 1.17702866] [-0.4024277]\n",
      "18 0.0232325 [ 1.172773] [-0.39275363]\n",
      "19 0.0221289 [ 1.16861963] [-0.38331211]\n",
      "20 0.0210778 [ 1.16456616] [-0.37409753]\n",
      "21 0.0200766 [ 1.16061008] [-0.3651045]\n",
      "22 0.0191229 [ 1.15674913] [-0.35632762]\n",
      "23 0.0182145 [ 1.15298104] [-0.34776175]\n",
      "24 0.0173493 [ 1.14930344] [-0.33940181]\n",
      "25 0.0165252 [ 1.14571428] [-0.33124283]\n",
      "26 0.0157403 [ 1.14221144] [-0.32327998]\n",
      "27 0.0149926 [ 1.13879275] [-0.31550857]\n",
      "28 0.0142804 [ 1.13545632] [-0.30792394]\n",
      "29 0.0136021 [ 1.1322] [-0.30052167]\n",
      "30 0.012956 [ 1.129022] [-0.29329735]\n",
      "31 0.0123406 [ 1.12592041] [-0.28624669]\n",
      "32 0.0117544 [ 1.12289333] [-0.27936551]\n",
      "33 0.0111961 [ 1.11993909] [-0.27264974]\n",
      "34 0.0106642 [ 1.11705589] [-0.26609543]\n",
      "35 0.0101577 [ 1.11424184] [-0.25969872]\n",
      "36 0.00967519 [ 1.11149561] [-0.2534557]\n",
      "37 0.00921561 [ 1.10881531] [-0.24736282]\n",
      "38 0.00877786 [ 1.1061995] [-0.24141638]\n",
      "39 0.00836089 [ 1.10364652] [-0.2356129]\n",
      "40 0.00796375 [ 1.10115492] [-0.22994894]\n",
      "41 0.00758547 [ 1.09872329] [-0.22442111]\n",
      "42 0.00722515 [ 1.09634995] [-0.21902621]\n",
      "43 0.00688194 [ 1.09403384] [-0.21376094]\n",
      "44 0.00655507 [ 1.09177327] [-0.20862229]\n",
      "45 0.00624368 [ 1.08956718] [-0.20360714]\n",
      "46 0.00594711 [ 1.08741403] [-0.1987126]\n",
      "47 0.00566461 [ 1.0853126] [-0.19393569]\n",
      "48 0.00539554 [ 1.08326173] [-0.18927361]\n",
      "49 0.00513925 [ 1.0812602] [-0.18472359]\n",
      "50 0.00489513 [ 1.07930684] [-0.18028295]\n",
      "51 0.00466261 [ 1.07740033] [-0.17594911]\n",
      "52 0.00444113 [ 1.07553959] [-0.17171943]\n",
      "53 0.00423017 [ 1.07372379] [-0.16759138]\n",
      "54 0.00402924 [ 1.07195151] [-0.16356263]\n",
      "55 0.00383786 [ 1.07022178] [-0.15963072]\n",
      "56 0.00365554 [ 1.06853378] [-0.15579326]\n",
      "57 0.0034819 [ 1.06688619] [-0.15204811]\n",
      "58 0.00331651 [ 1.06527829] [-0.14839296]\n",
      "59 0.00315898 [ 1.06370902] [-0.1448257]\n",
      "60 0.00300892 [ 1.06217754] [-0.14134416]\n",
      "61 0.00286599 [ 1.06068289] [-0.13794634]\n",
      "62 0.00272986 [ 1.05922401] [-0.13463023]\n",
      "63 0.00260018 [ 1.05780041] [-0.13139379]\n",
      "64 0.00247668 [ 1.05641091] [-0.12823519]\n",
      "65 0.00235904 [ 1.05505478] [-0.12515253]\n",
      "66 0.00224698 [ 1.05373132] [-0.12214394]\n",
      "67 0.00214024 [ 1.05243969] [-0.11920767]\n",
      "68 0.00203858 [ 1.05117905] [-0.11634202]\n",
      "69 0.00194175 [ 1.04994869] [-0.11354523]\n",
      "70 0.00184951 [ 1.04874802] [-0.11081567]\n",
      "71 0.00176166 [ 1.04757619] [-0.10815173]\n",
      "72 0.00167798 [ 1.04643238] [-0.10555187]\n",
      "73 0.00159827 [ 1.04531622] [-0.10301443]\n",
      "74 0.00152235 [ 1.04422688] [-0.10053803]\n",
      "75 0.00145004 [ 1.04316366] [-0.09812118]\n",
      "76 0.00138116 [ 1.04212606] [-0.0957624]\n",
      "77 0.00131555 [ 1.04111338] [-0.09346034]\n",
      "78 0.00125307 [ 1.04012501] [-0.09121362]\n",
      "79 0.00119355 [ 1.03916049] [-0.08902091]\n",
      "80 0.00113685 [ 1.03821909] [-0.08688091]\n",
      "81 0.00108285 [ 1.03730023] [-0.08479238]\n",
      "82 0.00103142 [ 1.03640366] [-0.082754]\n",
      "83 0.000982423 [ 1.03552854] [-0.08076467]\n",
      "84 0.000935751 [ 1.03467453] [-0.07882313]\n",
      "85 0.000891306 [ 1.03384089] [-0.07692832]\n",
      "86 0.000848968 [ 1.03302741] [-0.075079]\n",
      "87 0.000808643 [ 1.03223348] [-0.07327417]\n",
      "88 0.000770231 [ 1.0314585] [-0.07151273]\n",
      "89 0.000733646 [ 1.03070223] [-0.0697936]\n",
      "90 0.000698795 [ 1.02996421] [-0.06811577]\n",
      "91 0.000665603 [ 1.02924395] [-0.0664783]\n",
      "92 0.000633986 [ 1.02854085] [-0.06488023]\n",
      "93 0.000603873 [ 1.0278548] [-0.06332052]\n",
      "94 0.000575183 [ 1.0271852] [-0.06179833]\n",
      "95 0.000547864 [ 1.0265317] [-0.06031274]\n",
      "96 0.00052184 [ 1.02589393] [-0.05886287]\n",
      "97 0.000497052 [ 1.02527142] [-0.05744786]\n",
      "98 0.000473442 [ 1.02466393] [-0.05606684]\n",
      "99 0.000450955 [ 1.02407098] [-0.05471905]\n",
      "[ 5.06563568]\n",
      "[ 3.01749396]\n"
     ]
    }
   ],
   "source": [
    "with tf.Session() as sess:\n",
    "    sess.run(tf.global_variables_initializer())\n",
    "    \n",
    "    for step in range(100):\n",
    "        _,cost_val = sess.run([train_op,cost],feed_dict = {X:x_data,Y:y_data})\n",
    "        \n",
    "        print(step,cost_val,sess.run(W),sess.run(b))\n",
    "        \n",
    "        \n",
    "    print(sess.run(hypothesis, feed_dict = {X:5}))\n",
    "    print(sess.run(hypothesis, feed_dict = {X:3}))"
   ]
  },
  {
   "cell_type": "code",
   "execution_count": 1,
   "metadata": {},
   "outputs": [],
   "source": [
    "import tensorflow as tf\n",
    "import numpy as np"
   ]
  },
  {
   "cell_type": "code",
   "execution_count": 2,
   "metadata": {},
   "outputs": [],
   "source": [
    "x_data = np.array(\n",
    "    [[0,0],[1,0],[1,1],[0,0],[0,0],[0,1]])"
   ]
  },
  {
   "cell_type": "code",
   "execution_count": 3,
   "metadata": {},
   "outputs": [],
   "source": [
    "y_data = np.array([\n",
    "    [1.,0.,0.],\n",
    "    [0.,1.,0.],\n",
    "    [0.,0.,1.],\n",
    "    [1.,0.,0.],\n",
    "    [1.,0.,0.],\n",
    "    [0.,0.,1.]\n",
    "])"
   ]
  },
  {
   "cell_type": "code",
   "execution_count": 4,
   "metadata": {},
   "outputs": [],
   "source": [
    "X = tf.placeholder(tf.float32)\n",
    "Y = tf.placeholder(tf.float32)"
   ]
  },
  {
   "cell_type": "code",
   "execution_count": 5,
   "metadata": {},
   "outputs": [],
   "source": [
    "W = tf.Variable(tf.random_uniform([2,3],-1.,1.))\n",
    "b = tf.Variable(tf.zeros([3]))"
   ]
  },
  {
   "cell_type": "code",
   "execution_count": 6,
   "metadata": {},
   "outputs": [],
   "source": [
    "L = tf.add(tf.matmul(X,W),b)\n",
    "L = tf.nn.relu(L)\n",
    "model = tf.nn.softmax(L)"
   ]
  },
  {
   "cell_type": "code",
   "execution_count": 7,
   "metadata": {},
   "outputs": [
    {
     "name": "stdout",
     "output_type": "stream",
     "text": [
      "[[ 0.38281083  0.59908772 -0.35579467]\n",
      " [-0.63628459  0.0378077   0.12279105]]\n",
      "[ 0.  0.  0.]\n"
     ]
    }
   ],
   "source": [
    "with tf.Session() as sess:\n",
    "    sess.run(tf.global_variables_initializer())\n",
    "    print(sess.run(W))\n",
    "    print(sess.run(b))"
   ]
  },
  {
   "cell_type": "code",
   "execution_count": 8,
   "metadata": {},
   "outputs": [],
   "source": [
    "cost = tf.reduce_mean(-tf.reduce_sum(Y*tf.log(model),axis = 1))"
   ]
  },
  {
   "cell_type": "code",
   "execution_count": 9,
   "metadata": {},
   "outputs": [],
   "source": [
    "optimizer = tf.train.GradientDescentOptimizer(learning_rate = 0.01)\n",
    "train_op = optimizer.minimize(cost)"
   ]
  },
  {
   "cell_type": "code",
   "execution_count": 10,
   "metadata": {},
   "outputs": [
    {
     "name": "stdout",
     "output_type": "stream",
     "text": [
      "10 1.14458\n",
      "20 1.13395\n",
      "30 1.12381\n",
      "40 1.11401\n",
      "50 1.10469\n",
      "60 1.09577\n",
      "70 1.08717\n",
      "80 1.07976\n",
      "90 1.07413\n",
      "100 1.06867\n"
     ]
    }
   ],
   "source": [
    "with tf.Session() as sess:\n",
    "    sess.run(tf.global_variables_initializer())\n",
    "    for step in range(100):\n",
    "        _,cost_val = sess.run([train_op,cost],feed_dict={X:x_data,Y:y_data})\n",
    "        \n",
    "        if (step+1) % 10 == 0:\n",
    "            print(step+1,cost_val)"
   ]
  },
  {
   "cell_type": "code",
   "execution_count": 11,
   "metadata": {},
   "outputs": [],
   "source": [
    "prediction = tf.argmax(model,axis = 1)\n",
    "target = tf.argmax(Y,axis = 1)"
   ]
  },
  {
   "cell_type": "code",
   "execution_count": 12,
   "metadata": {},
   "outputs": [
    {
     "name": "stdout",
     "output_type": "stream",
     "text": [
      "actual: [0 1 2 0 0 2]\n",
      "estimated: [0 2 2 0 0 0]\n",
      "accuracy:66.666672\n"
     ]
    }
   ],
   "source": [
    "with tf.Session() as sess:\n",
    "    sess.run(tf.global_variables_initializer())\n",
    "    print('actual:',sess.run(target,feed_dict = {Y: y_data}))\n",
    "    print('estimated:',sess.run(prediction,feed_dict = {X:x_data}))\n",
    "    \n",
    "\n",
    "    is_correct = tf.equal(prediction,target)\n",
    "    accuracy = tf.reduce_mean(tf.cast(is_correct,tf.float32))\n",
    "    print('accuracy:%2f' % sess.run(accuracy*100,feed_dict = {X:x_data,Y:y_data}))\n",
    "    "
   ]
  },
  {
   "cell_type": "code",
   "execution_count": null,
   "metadata": {},
   "outputs": [],
   "source": []
  }
 ],
 "metadata": {
  "kernelspec": {
   "display_name": "Python 3",
   "language": "python",
   "name": "python3"
  },
  "language_info": {
   "codemirror_mode": {
    "name": "ipython",
    "version": 3
   },
   "file_extension": ".py",
   "mimetype": "text/x-python",
   "name": "python",
   "nbconvert_exporter": "python",
   "pygments_lexer": "ipython3",
   "version": "3.6.3"
  }
 },
 "nbformat": 4,
 "nbformat_minor": 2
}
