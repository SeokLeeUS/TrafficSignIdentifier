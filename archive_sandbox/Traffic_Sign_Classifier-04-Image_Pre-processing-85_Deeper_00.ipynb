{
 "cells": [
  {
   "cell_type": "markdown",
   "metadata": {},
   "source": [
    "### Step 0: Load the image of German Traffic Sign and examine the data image is correct"
   ]
  },
  {
   "cell_type": "code",
   "execution_count": 1,
   "metadata": {},
   "outputs": [],
   "source": [
    "## import tensorflow ,numpy,etc. \n",
    "import tensorflow as tf\n",
    "import numpy as np\n",
    "from tensorflow.contrib.layers import flatten"
   ]
  },
  {
   "cell_type": "code",
   "execution_count": 2,
   "metadata": {},
   "outputs": [],
   "source": [
    "# Load pickled data\n",
    "import pickle\n",
    "\n",
    "# TODO: Fill this in based on where you saved the training and testing data\n",
    "\n",
    "training_file = '../data/train.p'\n",
    "validation_file = '../data/valid.p'\n",
    "testing_file = '../data/test.p'\n",
    "\n",
    "with open(training_file, mode='rb') as f:\n",
    "    train = pickle.load(f)\n",
    "with open(validation_file, mode='rb') as f:\n",
    "    valid = pickle.load(f)\n",
    "with open(testing_file, mode='rb') as f:\n",
    "    test = pickle.load(f)\n",
    "    \n",
    "X_train, y_train = train['features'], train['labels']\n",
    "X_valid, y_valid = valid['features'], valid['labels']\n",
    "X_test, y_test = test['features'], test['labels']"
   ]
  },
  {
   "cell_type": "code",
   "execution_count": 3,
   "metadata": {},
   "outputs": [
    {
     "data": {
      "text/plain": [
       "<matplotlib.figure.Figure at 0x7f9e1fbc5710>"
      ]
     },
     "metadata": {},
     "output_type": "display_data"
    }
   ],
   "source": [
    "### Data exploration visualization code goes here.\n",
    "### Feel free to use as many code cells as needed.\n",
    "### https://stackoverflow.com/questions/46615554/how-to-display-multiple-images-in-one-figure-correctly\n",
    "import matplotlib.pyplot as plt\n",
    "import random\n",
    "# Visualizations will be shown in the notebook.\n",
    "#matplotlib inline\n",
    "\n",
    "index = random.randint(0, len(X_train))\n",
    "image = X_train[index].squeeze()\n",
    "\n",
    "w = 10\n",
    "h = 10\n",
    "fig = plt.figure(figsize=(9, 13))\n",
    "columns = 4\n",
    "rows = 5\n",
    "ax = []\n",
    "\n",
    "for i in range( columns*rows ):\n",
    "    #img = np.random.randint(10, size=(h,w))  \n",
    "    index = random.randint(0, len(X_train))\n",
    "    img = X_train[index].squeeze()\n",
    "    \n",
    "    # create subplot and append to ax\n",
    "    ax.append( fig.add_subplot(rows, columns, i+1) )\n",
    "    ax[-1].set_title(\"ax:\"+str(i))  # set title\n",
    "    plt.imshow(img, alpha=0.25)\n",
    "\n",
    "plt.show()  # finally, render the plot"
   ]
  },
  {
   "cell_type": "markdown",
   "metadata": {},
   "source": [
    "----\n",
    "## Step 1: Design and Test a Model Architecture\n",
    "\n",
    "Design and implement a deep learning model that learns to recognize traffic signs. Train and test your model on the [German Traffic Sign Dataset](http://benchmark.ini.rub.de/?section=gtsrb&subsection=dataset).\n",
    "\n",
    "There are various aspects to consider when thinking about this problem:\n",
    "\n",
    "- Neural network architecture (is the network over or underfitting?)\n",
    "- Play around preprocessing techniques (normalization, rgb to grayscale, etc)\n",
    "- Number of examples per label (some have more than others).\n",
    "- Generate fake data.\n",
    "\n"
   ]
  },
  {
   "cell_type": "markdown",
   "metadata": {},
   "source": [
    "### Pre-process the Data Set (normalization, grayscale, etc.)\n",
    "\n",
    "Minimally, the image data should be normalized so that the data has mean zero and equal variance. For image data, (pixel - 128)/ 128 is a quick way to approximately normalize the data and can be used in this project.\n",
    "\n",
    "Other pre-processing steps are optional. You can try different techniques to see if it improves performance.\n",
    "\n",
    "Use the code cell (or multiple code cells, if necessary) to implement the first step of your project.\n"
   ]
  },
  {
   "cell_type": "code",
   "execution_count": 4,
   "metadata": {},
   "outputs": [],
   "source": [
    "# image centering for image pre-processing\n",
    "def center(X):\n",
    "    newX = X - np.mean(X, axis = 0)\n",
    "    return newX"
   ]
  },
  {
   "cell_type": "code",
   "execution_count": 5,
   "metadata": {},
   "outputs": [],
   "source": [
    "# whitening, but poor result for pre-processing \n",
    "def whiten(X):\n",
    "    #newX = center(X)\n",
    "    cov = X.T.dot(X)/float(X.shape[0])\n",
    "    # Calculate the eigenvalues and eigenvectors of the covariance matrix\n",
    "    eigVals, eigVecs = np.linalg.eig(cov)\n",
    "    # Apply the eigenvectors to X\n",
    "    decorrelated = X.dot(eigVecs)\n",
    "    # Rescale the decorrelated data\n",
    "    whitened = decorrelated / np.sqrt(eigVals + 1e-5)\n",
    "    return whitened"
   ]
  },
  {
   "cell_type": "code",
   "execution_count": 6,
   "metadata": {},
   "outputs": [],
   "source": [
    "# normalization for pre-processing\n",
    "def normCNN(X):\n",
    "    X = X.reshape(X.shape[0], X.shape[1]*X.shape[2]*X.shape[3])\n",
    "    # normalization\n",
    "    X_norm = X-128/128\n",
    "    # centeralization\n",
    "    X_norm = X_norm - X_norm.mean(axis=0)\n",
    "    # standardization\n",
    "    X_norm = X_norm/np.std(X_norm, axis = 0)\n",
    "    # rescaling to set between 0 and 1    \n",
    "    return X_norm"
   ]
  },
  {
   "cell_type": "code",
   "execution_count": 7,
   "metadata": {},
   "outputs": [],
   "source": [
    "# rescaling\n",
    "def RescaleCNN(X):\n",
    "    X_rescaled = (X - X.min()) / (X.max() - X.min())\n",
    "    \n",
    "    return X_rescaled"
   ]
  },
  {
   "cell_type": "code",
   "execution_count": 8,
   "metadata": {},
   "outputs": [],
   "source": [
    "def reScaledback(X):\n",
    "    X_reScaled = X.reshape(-1,32,32,3)\n",
    "    return X_reScaled    "
   ]
  },
  {
   "cell_type": "code",
   "execution_count": 9,
   "metadata": {},
   "outputs": [],
   "source": [
    "X_train = normCNN(X_train)\n",
    "#X_valid = normCNN(X_valid)\n",
    "#X_test = normCNN(X_test)"
   ]
  },
  {
   "cell_type": "code",
   "execution_count": 10,
   "metadata": {},
   "outputs": [],
   "source": [
    "#X_train = whiten(X_train)\n",
    "#X_valid = whiten(X_valid)\n",
    "#X_test = whiten(X_test)"
   ]
  },
  {
   "cell_type": "code",
   "execution_count": 10,
   "metadata": {},
   "outputs": [],
   "source": [
    "# do I need this? Feb092018, without rescaling, the accuracy is at 70%.... \n",
    "X_train = RescaleCNN(X_train)\n",
    "#X_valid = RescaleCNN(X_valid)\n",
    "#X_test = RescaleCNN(X_test)"
   ]
  },
  {
   "cell_type": "code",
   "execution_count": 11,
   "metadata": {},
   "outputs": [],
   "source": [
    "X_train = reScaledback(X_train)\n",
    "#X_valid = reScaledback(X_valid)\n",
    "#X_test = reScaledback(X_test)"
   ]
  },
  {
   "cell_type": "code",
   "execution_count": 12,
   "metadata": {},
   "outputs": [
    {
     "data": {
      "text/plain": [
       "(34799, 32, 32, 3)"
      ]
     },
     "execution_count": 12,
     "metadata": {},
     "output_type": "execute_result"
    }
   ],
   "source": [
    "# recheck the data shape\n",
    "X_train.shape"
   ]
  },
  {
   "cell_type": "code",
   "execution_count": 13,
   "metadata": {},
   "outputs": [
    {
     "data": {
      "text/plain": [
       "(34799, 32, 32, 1)"
      ]
     },
     "execution_count": 13,
     "metadata": {},
     "output_type": "execute_result"
    }
   ],
   "source": [
    "# graying out\n",
    "X_train = X_train.mean(axis=-1,keepdims=1) \n",
    "X_valid = X_valid.mean(axis=-1,keepdims=1)\n",
    "X_test = X_test.mean(axis=-1,keepdims=1)\n",
    "X_train.shape"
   ]
  },
  {
   "cell_type": "code",
   "execution_count": 14,
   "metadata": {},
   "outputs": [],
   "source": [
    "# plotting custom function \n",
    "def plotImage(X):\n",
    "    plt.figure(figsize = (1.5,1.5))\n",
    "    plt.imshow(X.reshape(32,32))\n",
    "    plt.show()\n",
    "    plt.close()"
   ]
  },
  {
   "cell_type": "code",
   "execution_count": 15,
   "metadata": {},
   "outputs": [
    {
     "data": {
      "image/png": "[encoded data removed]",
      "text/plain": [
       "<matplotlib.figure.Figure at 0x7f9e3295a630>"
      ]
     },
     "metadata": {
      "needs_background": "light"
     },
     "output_type": "display_data"
    }
   ],
   "source": [
    "# plot an image to see if things are done correctly \n",
    "plotImage(X_train[12,:])"
   ]
  },
  {
   "cell_type": "code",
   "execution_count": 16,
   "metadata": {},
   "outputs": [
    {
     "name": "stdout",
     "output_type": "stream",
     "text": [
      "43\n"
     ]
    }
   ],
   "source": [
    "# classID and signal name extraction\n",
    "import pandas as pd\n",
    "my_csv = pd.read_csv('signnames.csv')\n",
    "ClassId_Name = my_csv.ClassId\n",
    "Sign_Name = my_csv.SignName\n",
    "\n",
    "print(len(ClassId_Name))"
   ]
  },
  {
   "cell_type": "code",
   "execution_count": 17,
   "metadata": {},
   "outputs": [
    {
     "name": "stdout",
     "output_type": "stream",
     "text": [
      "Number of training examples = 34799\n",
      "Number of testing examples = 12630\n",
      "Image data shape = (34799, 32, 32, 1)\n",
      "Number of classes = 43\n"
     ]
    }
   ],
   "source": [
    "# extract the number of images. \n",
    "### 34,799 of the dataset images were used as a training dataset,\n",
    "### 12,630 of the images were used as a testing dataset, \n",
    "### and 4,410 of the images were used as a validation dataset.\n",
    "\n",
    "# TODO: Number of training examples\n",
    "n_train = len(X_train)\n",
    "\n",
    "# TODO: Number of validation examples\n",
    "n_validation = len(X_valid) \n",
    "\n",
    "# TODO: Number of testing examples.\n",
    "n_test = len(X_test)\n",
    "\n",
    "# TODO: What's the shape of an traffic sign image?\n",
    "image_shape = X_train.shape\n",
    "# print(\"Image Shape: {}\".format(X_train[0].shape))\n",
    "\n",
    "# TODO: How many unique classes/labels there are in the dataset.\n",
    "n_classes = len(ClassId_Name)\n",
    "\n",
    "print(\"Number of training examples =\", n_train)\n",
    "print(\"Number of testing examples =\", n_test)\n",
    "print(\"Image data shape =\", image_shape)\n",
    "print(\"Number of classes =\", n_classes)"
   ]
  },
  {
   "cell_type": "markdown",
   "metadata": {},
   "source": [
    "### Include an exploratory visualization of the dataset"
   ]
  },
  {
   "cell_type": "code",
   "execution_count": 18,
   "metadata": {},
   "outputs": [
    {
     "name": "stdout",
     "output_type": "stream",
     "text": [
      "(1, 32, 32, 1)\n"
     ]
    }
   ],
   "source": [
    "## testing the shape of an image\n",
    "img_reshape = X_train[12,:].reshape(-1,32,32,1)\n",
    "print(img_reshape.shape)"
   ]
  },
  {
   "cell_type": "code",
   "execution_count": 19,
   "metadata": {},
   "outputs": [
    {
     "name": "stdout",
     "output_type": "stream",
     "text": [
      "(1, 32, 32, 1)\n"
     ]
    }
   ],
   "source": [
    "img_reshape = tf.cast(img_reshape,tf.float32)\n",
    "print(img_reshape.shape)"
   ]
  },
  {
   "cell_type": "code",
   "execution_count": 20,
   "metadata": {},
   "outputs": [
    {
     "name": "stdout",
     "output_type": "stream",
     "text": [
      "Tensor(\"Conv2D:0\", shape=(1, 16, 16, 5), dtype=float32)\n"
     ]
    },
    {
     "data": {
      "image/png": "[encoded data removed]",
      "text/plain": [
       "<matplotlib.figure.Figure at 0x7f9e1fea5c18>"
      ]
     },
     "metadata": {
      "needs_background": "light"
     },
     "output_type": "display_data"
    }
   ],
   "source": [
    "# testing one image under tensorflow interactive session\n",
    "# convlution layer image\n",
    "\n",
    "sess = tf.InteractiveSession()\n",
    "#img = img.reshape(-1,28,28,1)\n",
    "W1 = tf.Variable(tf.random_normal([3,3,1,5],stddev = 0.01))\n",
    "conv2d = tf.nn.conv2d(img_reshape,W1,strides = [1,2,2,1],padding = 'SAME')\n",
    "print(conv2d)\n",
    "sess.run(tf.global_variables_initializer())\n",
    "conv2d_img = conv2d.eval()\n",
    "conv2d_img = np.swapaxes(conv2d_img,0,3)\n",
    "for i, one_img in enumerate(conv2d_img):\n",
    "    # plt.subplot(1,5,i+1), plt.imshow(one_img.reshape(14,14),cmap ='gray')\n",
    "    plt.subplot(2,5,i+1), plt.imshow(one_img.reshape(16,16),cmap ='gray')"
   ]
  },
  {
   "cell_type": "code",
   "execution_count": 21,
   "metadata": {},
   "outputs": [
    {
     "name": "stdout",
     "output_type": "stream",
     "text": [
      "Tensor(\"MaxPool:0\", shape=(1, 8, 8, 5), dtype=float32)\n"
     ]
    },
    {
     "data": {
      "image/png": "[encoded data removed]",
      "text/plain": [
       "<matplotlib.figure.Figure at 0x7f9e1be6ce80>"
      ]
     },
     "metadata": {
      "needs_background": "light"
     },
     "output_type": "display_data"
    }
   ],
   "source": [
    "# check maxpooling image\n",
    "# max pool image\n",
    "pool = tf.nn.max_pool(conv2d,ksize=[1,2,2,1],strides=[1,2,2,1],padding='SAME')\n",
    "print(pool)\n",
    "sess.run(tf.global_variables_initializer())\n",
    "pool_img = pool.eval()\n",
    "pool_img = np.swapaxes(pool_img,0,3)\n",
    "for i, one_img in enumerate(pool_img):\n",
    "    plt.subplot(1,5,i+1),plt.imshow(one_img.reshape(8,8),cmap = 'gray')\n",
    "    #plt.subplot(1,5,i+1),plt.imshow(one_img.reshape(7,7),cmap = 'gray')"
   ]
  },
  {
   "cell_type": "markdown",
   "metadata": {},
   "source": [
    "### Train, Validate, and test the model "
   ]
  },
  {
   "cell_type": "code",
   "execution_count": 22,
   "metadata": {},
   "outputs": [],
   "source": [
    "# define parameters i.e. learning rate, epochs, and batch sizes\n",
    "learning_rate = 0.0009\n",
    "training_epochs = 60\n",
    "batch_size = 200\n",
    "\n",
    "EPOCHS = training_epochs\n",
    "BATCH_SIZE = batch_size"
   ]
  },
  {
   "cell_type": "code",
   "execution_count": 23,
   "metadata": {},
   "outputs": [],
   "source": [
    "# setting placeholders\n",
    "\n",
    "x = tf.placeholder(tf.float32, (None, 32, 32, 1))\n",
    "y = tf.placeholder(tf.int32, (None))\n",
    "one_hot_y = tf.one_hot(y, n_classes)"
   ]
  },
  {
   "cell_type": "code",
   "execution_count": 24,
   "metadata": {},
   "outputs": [],
   "source": [
    "#keep_prob = tf.placeholder(tf.float32)"
   ]
  },
  {
   "cell_type": "code",
   "execution_count": 25,
   "metadata": {},
   "outputs": [],
   "source": [
    "keep_prob = tf.placeholder(tf.float32)"
   ]
  },
  {
   "cell_type": "code",
   "execution_count": 26,
   "metadata": {},
   "outputs": [],
   "source": [
    "## setting LeNet drop out increases 10% better accuracy!!\n",
    "from tensorflow.contrib.layers import flatten\n",
    "\n",
    "def LeNet(x):    \n",
    "   \n",
    "    W1 = tf.Variable(tf.random_normal([3,3,1,32],stddev = 0.01))\n",
    "    L1 = tf.nn.conv2d(x,W1,strides = [1,1,1,1],padding = 'SAME')\n",
    "    L1 = tf.nn.relu(L1)\n",
    "    L1 = tf.nn.max_pool(L1,ksize=[1,2,2,1],strides = [1,2,2,1],padding = 'SAME')\n",
    "    L1 = tf.nn.dropout(L1,keep_prob)\n",
    "    # L1 image size:( ?,32,32,1)\n",
    "    # Conv: (?,32,32,32)\n",
    "    # Pool: (?,16,16,32)\n",
    "\n",
    "\n",
    "    # SOLUTION: Layer 2: Convolutional. Output = 10x10x16.\n",
    "    W2 = tf.Variable(tf.random_normal([3,3,32,64],stddev = 0.01))\n",
    "    L2 = tf.nn.conv2d(L1,W2,strides = [1,1,1,1],padding = 'SAME')\n",
    "    L2 = tf.nn.max_pool(L2,ksize = [1,2,2,1],strides = [1,2,2,1],padding = 'SAME')\n",
    "    L2 = tf.nn.relu(L2)\n",
    "    L2 = tf.nn.dropout(L2,keep_prob)\n",
    "    # L2 image size:(?,14,14,32)\n",
    "    # Conv: (?,16,16,64)\n",
    "    # Pool: (?,8,8,64)\n",
    "    \n",
    "    \n",
    "    W3 = tf.Variable(tf.random_normal([3,3,64,128],stddev = 0.01))\n",
    "    L3 = tf.nn.conv2d(L2,W3,strides = [1,1,1,1],padding = 'SAME')\n",
    "    L3 = tf.nn.relu(L3)\n",
    "    L3 = tf.nn.max_pool(L3,ksize = [1,2,2,1], strides = [1,2,2,1], padding = 'SAME')\n",
    "    L3 = tf.nn.relu(L3)\n",
    "    #L3 = tf.nn.dropout(L3,keep_prob = keep_prob)\n",
    "    L3 = tf.reshape(L3,[-1,128*4*4])\n",
    "    # L3 image size (?,8,8,128)\n",
    "    # relu (?,8,8,128)\n",
    "    # maxpool (4,4,128)\n",
    "    # dropout (?,4,4,128)\n",
    "    # reshape (2048)\n",
    "    \n",
    "    W4 = tf.get_variable('W4',shape = [128*4*4,625],initializer = tf.contrib.layers.xavier_initializer())\n",
    "    b4 = tf.Variable(tf.random_normal([625]))\n",
    "    L4 = tf.nn.relu(tf.matmul(L3,W4)+b4)\n",
    "    #L4 = tf.nn.dropout(L4,keep_prob=keep_prob)\n",
    "    \n",
    "    W5 = tf.get_variable('W5',shape = [625,n_classes],initializer = tf.contrib.layers.xavier_initializer())\n",
    "    b = tf.Variable(tf.random_normal([n_classes]))\n",
    "    logits = tf.matmul(L4,W5)+b\n",
    "\n",
    "    \n",
    "    \n",
    "    return logits"
   ]
  },
  {
   "cell_type": "code",
   "execution_count": 27,
   "metadata": {},
   "outputs": [],
   "source": [
    "\n",
    "logits = LeNet(x)\n",
    "#logits = LeNet2(x)\n",
    "cross_entropy = tf.nn.softmax_cross_entropy_with_logits(labels=one_hot_y, logits=logits)\n",
    "loss_operation = tf.reduce_mean(cross_entropy)\n",
    "optimizer = tf.train.AdamOptimizer(learning_rate = learning_rate)\n",
    "training_operation = optimizer.minimize(loss_operation)\n",
    "\n",
    "\n",
    "# model evaluation \n",
    "correct_prediction = tf.equal(tf.argmax(logits, 1), tf.argmax(one_hot_y, 1))\n",
    "accuracy_operation = tf.reduce_mean(tf.cast(correct_prediction, tf.float32))\n",
    "saver = tf.train.Saver()"
   ]
  },
  {
   "cell_type": "code",
   "execution_count": 28,
   "metadata": {},
   "outputs": [],
   "source": [
    "# drop_out evaluation \n",
    "def evaluate(X_data, y_data):\n",
    "    num_examples = len(X_data)\n",
    "    total_accuracy = 0\n",
    "    sess = tf.get_default_session()\n",
    "    for offset in range(0, num_examples, BATCH_SIZE):\n",
    "        batch_x, batch_y = X_data[offset:offset+BATCH_SIZE], y_data[offset:offset+BATCH_SIZE]\n",
    "        accuracy = sess.run(accuracy_operation, feed_dict={x: batch_x, y: batch_y, keep_prob: 1.0})\n",
    "        total_accuracy += (accuracy * len(batch_x))\n",
    "    return total_accuracy / num_examples"
   ]
  },
  {
   "cell_type": "code",
   "execution_count": 29,
   "metadata": {},
   "outputs": [],
   "source": [
    "from sklearn.utils import shuffle\n",
    "\n",
    "X_train, y_train = shuffle(X_train, y_train)"
   ]
  },
  {
   "cell_type": "code",
   "execution_count": 30,
   "metadata": {},
   "outputs": [
    {
     "name": "stdout",
     "output_type": "stream",
     "text": [
      "Training...\n",
      "\n",
      "EPOCH 1 ...\n",
      "Validation Accuracy = 0.053\n",
      "\n",
      "EPOCH 2 ...\n",
      "Validation Accuracy = 0.220\n",
      "\n",
      "EPOCH 3 ...\n",
      "Validation Accuracy = 0.440\n",
      "\n",
      "EPOCH 4 ...\n",
      "Validation Accuracy = 0.521\n",
      "\n",
      "EPOCH 5 ...\n",
      "Validation Accuracy = 0.586\n",
      "\n",
      "EPOCH 6 ...\n",
      "Validation Accuracy = 0.669\n",
      "\n",
      "EPOCH 7 ...\n",
      "Validation Accuracy = 0.640\n",
      "\n",
      "EPOCH 8 ...\n",
      "Validation Accuracy = 0.686\n",
      "\n",
      "EPOCH 9 ...\n",
      "Validation Accuracy = 0.704\n",
      "\n",
      "EPOCH 10 ...\n",
      "Validation Accuracy = 0.744\n",
      "\n",
      "EPOCH 11 ...\n",
      "Validation Accuracy = 0.733\n",
      "\n",
      "EPOCH 12 ...\n",
      "Validation Accuracy = 0.722\n",
      "\n",
      "EPOCH 13 ...\n",
      "Validation Accuracy = 0.741\n",
      "\n",
      "EPOCH 14 ...\n",
      "Validation Accuracy = 0.739\n",
      "\n",
      "EPOCH 15 ...\n",
      "Validation Accuracy = 0.753\n",
      "\n",
      "EPOCH 16 ...\n",
      "Validation Accuracy = 0.765\n",
      "\n",
      "EPOCH 17 ...\n",
      "Validation Accuracy = 0.768\n",
      "\n",
      "EPOCH 18 ...\n",
      "Validation Accuracy = 0.762\n",
      "\n",
      "EPOCH 19 ...\n",
      "Validation Accuracy = 0.755\n",
      "\n",
      "EPOCH 20 ...\n",
      "Validation Accuracy = 0.768\n",
      "\n",
      "EPOCH 21 ...\n",
      "Validation Accuracy = 0.761\n",
      "\n",
      "EPOCH 22 ...\n",
      "Validation Accuracy = 0.769\n",
      "\n",
      "EPOCH 23 ...\n",
      "Validation Accuracy = 0.776\n",
      "\n",
      "EPOCH 24 ...\n",
      "Validation Accuracy = 0.779\n",
      "\n",
      "EPOCH 25 ...\n",
      "Validation Accuracy = 0.779\n",
      "\n",
      "EPOCH 26 ...\n",
      "Validation Accuracy = 0.777\n",
      "\n",
      "EPOCH 27 ...\n",
      "Validation Accuracy = 0.785\n",
      "\n",
      "EPOCH 28 ...\n",
      "Validation Accuracy = 0.788\n",
      "\n",
      "EPOCH 29 ...\n",
      "Validation Accuracy = 0.777\n",
      "\n",
      "EPOCH 30 ...\n",
      "Validation Accuracy = 0.788\n",
      "\n",
      "EPOCH 31 ...\n",
      "Validation Accuracy = 0.787\n",
      "\n",
      "EPOCH 32 ...\n",
      "Validation Accuracy = 0.775\n",
      "\n",
      "EPOCH 33 ...\n",
      "Validation Accuracy = 0.778\n",
      "\n",
      "EPOCH 34 ...\n",
      "Validation Accuracy = 0.780\n",
      "\n",
      "EPOCH 35 ...\n",
      "Validation Accuracy = 0.780\n",
      "\n",
      "EPOCH 36 ...\n",
      "Validation Accuracy = 0.800\n",
      "\n",
      "EPOCH 37 ...\n",
      "Validation Accuracy = 0.788\n",
      "\n",
      "EPOCH 38 ...\n",
      "Validation Accuracy = 0.792\n",
      "\n",
      "EPOCH 39 ...\n",
      "Validation Accuracy = 0.793\n",
      "\n",
      "EPOCH 40 ...\n",
      "Validation Accuracy = 0.781\n",
      "\n",
      "EPOCH 41 ...\n",
      "Validation Accuracy = 0.789\n",
      "\n",
      "EPOCH 42 ...\n",
      "Validation Accuracy = 0.780\n",
      "\n",
      "EPOCH 43 ...\n",
      "Validation Accuracy = 0.778\n",
      "\n",
      "EPOCH 44 ...\n",
      "Validation Accuracy = 0.796\n",
      "\n",
      "EPOCH 45 ...\n",
      "Validation Accuracy = 0.800\n",
      "\n",
      "EPOCH 46 ...\n",
      "Validation Accuracy = 0.793\n",
      "\n",
      "EPOCH 47 ...\n",
      "Validation Accuracy = 0.803\n",
      "\n",
      "EPOCH 48 ...\n",
      "Validation Accuracy = 0.804\n",
      "\n",
      "EPOCH 49 ...\n",
      "Validation Accuracy = 0.793\n",
      "\n",
      "EPOCH 50 ...\n",
      "Validation Accuracy = 0.795\n",
      "\n",
      "EPOCH 51 ...\n",
      "Validation Accuracy = 0.786\n",
      "\n",
      "EPOCH 52 ...\n",
      "Validation Accuracy = 0.807\n",
      "\n",
      "EPOCH 53 ...\n",
      "Validation Accuracy = 0.818\n",
      "\n",
      "EPOCH 54 ...\n",
      "Validation Accuracy = 0.813\n",
      "\n",
      "EPOCH 55 ...\n",
      "Validation Accuracy = 0.796\n",
      "\n",
      "EPOCH 56 ...\n",
      "Validation Accuracy = 0.803\n",
      "\n",
      "EPOCH 57 ...\n",
      "Validation Accuracy = 0.818\n",
      "\n",
      "EPOCH 58 ...\n",
      "Validation Accuracy = 0.800\n",
      "\n",
      "EPOCH 59 ...\n",
      "Validation Accuracy = 0.803\n",
      "\n",
      "EPOCH 60 ...\n",
      "Validation Accuracy = 0.808\n",
      "\n",
      "Model saved\n"
     ]
    }
   ],
   "source": [
    "## 'drop out' train model \n",
    "\n",
    "with tf.Session() as sess:\n",
    "    sess.run(tf.global_variables_initializer())\n",
    "    num_examples = len(X_train)\n",
    "    \n",
    "    print(\"Training...\")\n",
    "    print()\n",
    "    for i in range(EPOCHS):\n",
    "        X_train, y_train = shuffle(X_train, y_train)\n",
    "        for offset in range(0, num_examples, BATCH_SIZE):\n",
    "            end = offset + BATCH_SIZE\n",
    "            batch_x, batch_y = X_train[offset:end], y_train[offset:end]\n",
    "            sess.run(training_operation, feed_dict={x: batch_x, y: batch_y, keep_prob: 0.5})\n",
    "            \n",
    "        validation_accuracy = evaluate(X_valid, y_valid)\n",
    "        print(\"EPOCH {} ...\".format(i+1))\n",
    "        print(\"Validation Accuracy = {:.3f}\".format(validation_accuracy))\n",
    "        print()\n",
    "        \n",
    "    saver.save(sess, './lenet')\n",
    "    print(\"Model saved\")\n",
    "    \n",
    "    # session closure. is it okay without close? I have seen many of codes without session close. \n",
    "    # found that 'with' function for session will close the session automatically?\n",
    "    #sess.close()"
   ]
  },
  {
   "cell_type": "code",
   "execution_count": null,
   "metadata": {},
   "outputs": [],
   "source": [
    "### observation:\n",
    "# Feb122019: I can only achieve 83.2% of accuracy\n",
    "# the first epoch accuracy is pretty poor. I am not sure how to improve\n",
    "# I can only achieve 85% at Max. What would be suggestion from grader?\n",
    "# also, I have done normalization, graying out, centering for image pre-processing. Is it enough?\n",
    "# for evaluation, 'X_valid' image data should be also pre-processed or raw image should be used?\n"
   ]
  },
  {
   "cell_type": "markdown",
   "metadata": {},
   "source": [
    "### Train, Validate and Test the Model"
   ]
  },
  {
   "cell_type": "markdown",
   "metadata": {},
   "source": [
    "A validation set can be used to assess how well the model is performing. A low accuracy on the training and validation\n",
    "sets imply underfitting. A high accuracy on the training set but low accuracy on the validation set implies overfitting."
   ]
  },
  {
   "cell_type": "markdown",
   "metadata": {},
   "source": [
    "---\n",
    "\n",
    "## Step 3: Test a Model on New Images\n",
    "\n",
    "To give yourself more insight into how your model is working, download at least five pictures of German traffic signs from the web and use your model to predict the traffic sign type.\n",
    "\n",
    "You may find `signnames.csv` useful as it contains mappings from the class id (integer) to the actual sign name."
   ]
  },
  {
   "cell_type": "markdown",
   "metadata": {},
   "source": [
    "## Load example image"
   ]
  },
  {
   "cell_type": "code",
   "execution_count": 31,
   "metadata": {},
   "outputs": [],
   "source": [
    "## Goddard's jupyter notes: https://github.com/Goddard/udacity-traffic-sign-classifier/blob/master/Traffic_Sign_Classifier.ipynb\n",
    "def plot_figures(figures, nrows = 1, ncols=1, labels=None):\n",
    "    fig, axs = plt.subplots(ncols=ncols, nrows=nrows, figsize=(12, 14))\n",
    "    axs = axs.ravel()\n",
    "    for index, title in zip(range(len(figures)), figures):\n",
    "        axs[index].imshow(figures[title], plt.gray())\n",
    "        if(labels != None):\n",
    "           axs[index].set_title(labels[index])\n",
    "        else:\n",
    "            axs[index].set_title(title)\n",
    "            \n",
    "        axs[index].set_axis_off()\n",
    "        \n",
    "    plt.tight_layout()"
   ]
  },
  {
   "cell_type": "code",
   "execution_count": 32,
   "metadata": {
    "scrolled": true
   },
   "outputs": [
    {
     "data": {
      "image/png": "[encoded data removed]",
      "text/plain": [
       "<matplotlib.figure.Figure at 0x7f9dec3b0400>"
      ]
     },
     "metadata": {
      "needs_background": "light"
     },
     "output_type": "display_data"
    }
   ],
   "source": [
    "'''\n",
    "\n",
    "1/ 28: children crossing\n",
    "2/27: pedestrians\n",
    "3/12: priority road\n",
    "4/23: slippery road\n",
    "5/4: Speed limit (70km/h)\n",
    "6/14: stop\n",
    "'''\n",
    "import numpy as np\n",
    "import tensorflow as tf\n",
    "import matplotlib.pyplot as plt\n",
    "import glob\n",
    "import cv2\n",
    "name_values = np.genfromtxt('signnames.csv', skip_header=1, dtype=[('myint','i8'), ('mysring','S55')], delimiter=',')\n",
    "\n",
    "my_images = sorted(glob.glob('./mysigns/*.png'))\n",
    "my_labels = np.array([28, 27, 12, 23, 4, 14])\n",
    "\n",
    "figures = {}\n",
    "labels = {}\n",
    "my_signs = []\n",
    "index = 0\n",
    "for my_image in my_images:\n",
    "    img = cv2.cvtColor(cv2.imread(my_image), cv2.COLOR_BGR2RGB)\n",
    "    my_signs.append(img)\n",
    "    figures[index] = img\n",
    "    labels[index] = name_values[my_labels[index]][1].decode('ascii')\n",
    "    index += 1\n",
    "\n",
    "plot_figures(figures, 3, 2, labels)"
   ]
  },
  {
   "cell_type": "code",
   "execution_count": 34,
   "metadata": {
    "scrolled": false
   },
   "outputs": [
    {
     "data": {
      "image/png": "[encoded data removed]",
      "text/plain": [
       "<matplotlib.figure.Figure at 0x7f9e100e53c8>"
      ]
     },
     "metadata": {
      "needs_background": "light"
     },
     "output_type": "display_data"
    }
   ],
   "source": [
    "### preprocessing it doesn't work, axis =3 out of bound error appear. \n",
    "\n",
    "my_signs = np.array(my_signs)\n",
    "my_signs_gray = np.sum(my_signs/3, axis=3, keepdims=True)\n",
    "my_signs_normalized = my_signs_gray/127.5-1\n",
    "\n",
    "my_signs_gray[1] = my_signs[1].mean(axis=-1,keepdims=1) \n",
    "\n",
    "\n",
    "\n",
    "\n",
    "number_to_stop = 6\n",
    "figures = {}\n",
    "labels = {}\n",
    "for i in range(number_to_stop):\n",
    "    labels[i] = name_values[my_labels[i]][1].decode('ascii')\n",
    "    figures[i] = my_signs_gray[i].squeeze()\n",
    "    \n",
    "plot_figures(figures, 3, 2, labels)"
   ]
  },
  {
   "cell_type": "markdown",
   "metadata": {},
   "source": [
    "### predict the sign type for each image"
   ]
  },
  {
   "cell_type": "code",
   "execution_count": 35,
   "metadata": {},
   "outputs": [
    {
     "name": "stdout",
     "output_type": "stream",
     "text": [
      "INFO:tensorflow:Restoring parameters from ./lenet\n",
      "My Data Set Accuracy = 0.000\n"
     ]
    }
   ],
   "source": [
    "### Run the predictions here and use the model to output the prediction for each image.\n",
    "### Make sure to pre-process the images with the same pre-processing pipeline used earlier.\n",
    "### Feel free to use as many code cells as needed.\n",
    "\n",
    "with tf.Session() as sess:\n",
    "    sess.run(tf.global_variables_initializer())\n",
    "#     saver = tf.train.import_meta_graph('./lenet.meta')\n",
    "    saver.restore(sess, \"./lenet\")\n",
    "    my_accuracy = evaluate(my_signs_normalized, my_labels)\n",
    "    print(\"My Data Set Accuracy = {:.3f}\".format(my_accuracy))"
   ]
  },
  {
   "cell_type": "markdown",
   "metadata": {},
   "source": [
    "### Analyze performance"
   ]
  },
  {
   "cell_type": "code",
   "execution_count": 36,
   "metadata": {},
   "outputs": [
    {
     "name": "stdout",
     "output_type": "stream",
     "text": [
      "INFO:tensorflow:Restoring parameters from ./lenet\n",
      "Image 1\n",
      "Image Accuracy = 0.000\n",
      "\n",
      "INFO:tensorflow:Restoring parameters from ./lenet\n",
      "Image 2\n",
      "Image Accuracy = 0.000\n",
      "\n",
      "INFO:tensorflow:Restoring parameters from ./lenet\n",
      "Image 3\n",
      "Image Accuracy = 0.000\n",
      "\n",
      "INFO:tensorflow:Restoring parameters from ./lenet\n",
      "Image 4\n",
      "Image Accuracy = 0.000\n",
      "\n",
      "INFO:tensorflow:Restoring parameters from ./lenet\n",
      "Image 5\n",
      "Image Accuracy = 0.000\n",
      "\n",
      "INFO:tensorflow:Restoring parameters from ./lenet\n",
      "Image 6\n",
      "Image Accuracy = 0.000\n",
      "\n"
     ]
    }
   ],
   "source": [
    "### Calculate the accuracy for these 5 new images. \n",
    "### For example, if the model predicted 1 out of 5 signs correctly, it's 20% accurate on these new images.\n",
    "my_single_item_array = []\n",
    "my_single_item_label_array = []\n",
    "\n",
    "for i in range(6):\n",
    "    my_single_item_array.append(my_signs_normalized[i])\n",
    "    my_single_item_label_array.append(my_labels[i])\n",
    "\n",
    "    with tf.Session() as sess:\n",
    "        sess.run(tf.global_variables_initializer())\n",
    "#         saver = tf.train.import_meta_graph('./lenet.meta')\n",
    "        saver.restore(sess, \"./lenet\")\n",
    "        my_accuracy = evaluate(my_single_item_array, my_single_item_label_array)\n",
    "        print('Image {}'.format(i+1))\n",
    "        print(\"Image Accuracy = {:.3f}\".format(my_accuracy))\n",
    "        print()"
   ]
  },
  {
   "cell_type": "markdown",
   "metadata": {},
   "source": [
    "### Output Top 5 Softmax Probabilities For Each Image Found on the Web"
   ]
  },
  {
   "cell_type": "markdown",
   "metadata": {},
   "source": [
    "For each of the new images, print out the model's softmax probabilities to show the **certainty** of the model's predictions (limit the output to the top 5 probabilities for each image). [`tf.nn.top_k`](https://www.tensorflow.org/versions/r0.12/api_docs/python/nn.html#top_k) could prove helpful here. \n",
    "\n",
    "The example below demonstrates how tf.nn.top_k can be used to find the top k predictions for each image.\n",
    "\n",
    "`tf.nn.top_k` will return the values and indices (class ids) of the top k predictions. So if k=3, for each sign, it'll return the 3 largest probabilities (out of a possible 43) and the correspoding class ids.\n",
    "\n",
    "Take this numpy array as an example. The values in the array represent predictions. The array contains softmax probabilities for five candidate images with six possible classes. `tf.nn.top_k` is used to choose the three classes with the highest probability:\n",
    "\n",
    "```\n",
    "# (5, 6) array\n",
    "a = np.array([[ 0.24879643,  0.07032244,  0.12641572,  0.34763842,  0.07893497,\n",
    "         0.12789202],\n",
    "       [ 0.28086119,  0.27569815,  0.08594638,  0.0178669 ,  0.18063401,\n",
    "         0.15899337],\n",
    "       [ 0.26076848,  0.23664738,  0.08020603,  0.07001922,  0.1134371 ,\n",
    "         0.23892179],\n",
    "       [ 0.11943333,  0.29198961,  0.02605103,  0.26234032,  0.1351348 ,\n",
    "         0.16505091],\n",
    "       [ 0.09561176,  0.34396535,  0.0643941 ,  0.16240774,  0.24206137,\n",
    "         0.09155967]])\n",
    "```\n",
    "\n",
    "Running it through `sess.run(tf.nn.top_k(tf.constant(a), k=3))` produces:\n",
    "\n",
    "```\n",
    "TopKV2(values=array([[ 0.34763842,  0.24879643,  0.12789202],\n",
    "       [ 0.28086119,  0.27569815,  0.18063401],\n",
    "       [ 0.26076848,  0.23892179,  0.23664738],\n",
    "       [ 0.29198961,  0.26234032,  0.16505091],\n",
    "       [ 0.34396535,  0.24206137,  0.16240774]]), indices=array([[3, 0, 5],\n",
    "       [0, 1, 4],\n",
    "       [0, 5, 1],\n",
    "       [1, 3, 5],\n",
    "       [1, 4, 3]], dtype=int32))\n",
    "```\n",
    "\n",
    "Looking just at the first row we get `[ 0.34763842,  0.24879643,  0.12789202]`, you can confirm these are the 3 largest probabilities in `a`. You'll also notice `[3, 0, 5]` are the corresponding indices."
   ]
  },
  {
   "cell_type": "code",
   "execution_count": 3,
   "metadata": {
    "collapsed": true
   },
   "outputs": [],
   "source": [
    "### Print out the top five softmax probabilities for the predictions on the German traffic sign images found on the web. \n",
    "### Feel free to use as many code cells as needed."
   ]
  },
  {
   "cell_type": "markdown",
   "metadata": {},
   "source": [
    "### Project Writeup\n",
    "\n",
    "Once you have completed the code implementation, document your results in a project writeup using this [template](https://github.com/udacity/CarND-Traffic-Sign-Classifier-Project/blob/master/writeup_template.md) as a guide. The writeup can be in a markdown or pdf file. "
   ]
  },
  {
   "cell_type": "markdown",
   "metadata": {},
   "source": [
    "> **Note**: Once you have completed all of the code implementations and successfully answered each question above, you may finalize your work by exporting the iPython Notebook as an HTML document. You can do this by using the menu above and navigating to  \\n\",\n",
    "    \"**File -> Download as -> HTML (.html)**. Include the finished document along with this notebook as your submission."
   ]
  },
  {
   "cell_type": "markdown",
   "metadata": {},
   "source": [
    "---\n",
    "\n",
    "## Step 4 (Optional): Visualize the Neural Network's State with Test Images\n",
    "\n",
    " This Section is not required to complete but acts as an additional excersise for understaning the output of a neural network's weights. While neural networks can be a great learning device they are often referred to as a black box. We can understand what the weights of a neural network look like better by plotting their feature maps. After successfully training your neural network you can see what it's feature maps look like by plotting the output of the network's weight layers in response to a test stimuli image. From these plotted feature maps, it's possible to see what characteristics of an image the network finds interesting. For a sign, maybe the inner network feature maps react with high activation to the sign's boundary outline or to the contrast in the sign's painted symbol.\n",
    "\n",
    " Provided for you below is the function code that allows you to get the visualization output of any tensorflow weight layer you want. The inputs to the function should be a stimuli image, one used during training or a new one you provided, and then the tensorflow variable name that represents the layer's state during the training process, for instance if you wanted to see what the [LeNet lab's](https://classroom.udacity.com/nanodegrees/nd013/parts/fbf77062-5703-404e-b60c-95b78b2f3f9e/modules/6df7ae49-c61c-4bb2-a23e-6527e69209ec/lessons/601ae704-1035-4287-8b11-e2c2716217ad/concepts/d4aca031-508f-4e0b-b493-e7b706120f81) feature maps looked like for it's second convolutional layer you could enter conv2 as the tf_activation variable.\n",
    "\n",
    "For an example of what feature map outputs look like, check out NVIDIA's results in their paper [End-to-End Deep Learning for Self-Driving Cars](https://devblogs.nvidia.com/parallelforall/deep-learning-self-driving-cars/) in the section Visualization of internal CNN State. NVIDIA was able to show that their network's inner weights had high activations to road boundary lines by comparing feature maps from an image with a clear path to one without. Try experimenting with a similar test to show that your trained network's weights are looking for interesting features, whether it's looking at differences in feature maps from images with or without a sign, or even what feature maps look like in a trained network vs a completely untrained one on the same sign image.\n",
    "\n",
    "<figure>\n",
    " <img src=\"visualize_cnn.png\" width=\"380\" alt=\"Combined Image\" />\n",
    " <figcaption>\n",
    " <p></p> \n",
    " <p style=\"text-align: center;\"> Your output should look something like this (above)</p> \n",
    " </figcaption>\n",
    "</figure>\n",
    " <p></p> \n"
   ]
  },
  {
   "cell_type": "code",
   "execution_count": null,
   "metadata": {
    "collapsed": true
   },
   "outputs": [],
   "source": [
    "### Visualize your network's feature maps here.\n",
    "### Feel free to use as many code cells as needed.\n",
    "\n",
    "# image_input: the test image being fed into the network to produce the feature maps\n",
    "# tf_activation: should be a tf variable name used during your training procedure that represents the calculated state of a specific weight layer\n",
    "# activation_min/max: can be used to view the activation contrast in more detail, by default matplot sets min and max to the actual min and max values of the output\n",
    "# plt_num: used to plot out multiple different weight feature map sets on the same block, just extend the plt number for each new feature map entry\n",
    "\n",
    "def outputFeatureMap(image_input, tf_activation, activation_min=-1, activation_max=-1 ,plt_num=1):\n",
    "    # Here make sure to preprocess your image_input in a way your network expects\n",
    "    # with size, normalization, ect if needed\n",
    "    # image_input =\n",
    "    # Note: x should be the same name as your network's tensorflow data placeholder variable\n",
    "    # If you get an error tf_activation is not defined it may be having trouble accessing the variable from inside a function\n",
    "    activation = tf_activation.eval(session=sess,feed_dict={x : image_input})\n",
    "    featuremaps = activation.shape[3]\n",
    "    plt.figure(plt_num, figsize=(15,15))\n",
    "    for featuremap in range(featuremaps):\n",
    "        plt.subplot(6,8, featuremap+1) # sets the number of feature maps to show on each row and column\n",
    "        plt.title('FeatureMap ' + str(featuremap)) # displays the feature map number\n",
    "        if activation_min != -1 & activation_max != -1:\n",
    "            plt.imshow(activation[0,:,:, featuremap], interpolation=\"nearest\", vmin =activation_min, vmax=activation_max, cmap=\"gray\")\n",
    "        elif activation_max != -1:\n",
    "            plt.imshow(activation[0,:,:, featuremap], interpolation=\"nearest\", vmax=activation_max, cmap=\"gray\")\n",
    "        elif activation_min !=-1:\n",
    "            plt.imshow(activation[0,:,:, featuremap], interpolation=\"nearest\", vmin=activation_min, cmap=\"gray\")\n",
    "        else:\n",
    "            plt.imshow(activation[0,:,:, featuremap], interpolation=\"nearest\", cmap=\"gray\")"
   ]
  }
 ],
 "metadata": {
  "anaconda-cloud": {},
  "kernelspec": {
   "display_name": "Python 3",
   "language": "python",
   "name": "python3"
  },
  "language_info": {
   "codemirror_mode": {
    "name": "ipython",
    "version": 3
   },
   "file_extension": ".py",
   "mimetype": "text/x-python",
   "name": "python",
   "nbconvert_exporter": "python",
   "pygments_lexer": "ipython3",
   "version": "3.6.3"
  }
 },
 "nbformat": 4,
 "nbformat_minor": 1
}
