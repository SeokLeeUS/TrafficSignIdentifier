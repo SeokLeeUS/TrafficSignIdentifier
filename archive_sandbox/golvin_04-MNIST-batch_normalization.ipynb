{
 "cells": [
  {
   "cell_type": "code",
   "execution_count": 1,
   "metadata": {},
   "outputs": [
    {
     "name": "stdout",
     "output_type": "stream",
     "text": [
      "Extracting /mnist/data/train-images-idx3-ubyte.gz\n",
      "Extracting /mnist/data/train-labels-idx1-ubyte.gz\n",
      "Extracting /mnist/data/t10k-images-idx3-ubyte.gz\n",
      "Extracting /mnist/data/t10k-labels-idx1-ubyte.gz\n"
     ]
    }
   ],
   "source": [
    "import tensorflow as tf\n",
    "from tensorflow.examples.tutorials.mnist import input_data\n",
    "mnist = input_data.read_data_sets('/mnist/data/',one_hot = True)"
   ]
  },
  {
   "cell_type": "code",
   "execution_count": 2,
   "metadata": {},
   "outputs": [],
   "source": [
    "keep_prob = tf.placeholder(tf.float32)"
   ]
  },
  {
   "cell_type": "code",
   "execution_count": 3,
   "metadata": {},
   "outputs": [],
   "source": [
    "X = tf.placeholder(tf.float32, [None,784])\n",
    "Y = tf.placeholder(tf.float32,[None,10])"
   ]
  },
  {
   "cell_type": "code",
   "execution_count": 5,
   "metadata": {},
   "outputs": [],
   "source": [
    "W1 = tf.Variable(tf.random_normal([784,256],stddev = 0.01))\n",
    "L1 = tf.nn.relu(tf.matmul(X,W1))\n",
    "L1 = tf.nn.dropout(L1,keep_prob)\n",
    "#L1 = tf.layers.batch_normalization(L1,training = is_training)\n",
    "\n",
    "W2 = tf.Variable(tf.random_normal([256,256],stddev = 0.01))\n",
    "L2 = tf.nn.relu(tf.matmul(L1,W2))\n",
    "L2 = tf.nn.dropout(L2,keep_prob)\n",
    "\n",
    "W3 = tf.Variable(tf.random_normal([256,10],stddev = 0.01))\n",
    "model = tf.matmul(L2,W3)\n"
   ]
  },
  {
   "cell_type": "code",
   "execution_count": 5,
   "metadata": {},
   "outputs": [],
   "source": [
    "cost = tf.reduce_mean(tf.nn.softmax_cross_entropy_with_logits(logits= model, labels = Y))\n",
    "optimizer = tf.train.AdamOptimizer(learning_rate = 0.001).minimize(cost)\n"
   ]
  },
  {
   "cell_type": "code",
   "execution_count": 8,
   "metadata": {},
   "outputs": [],
   "source": [
    "## Session starts"
   ]
  },
  {
   "cell_type": "code",
   "execution_count": 6,
   "metadata": {},
   "outputs": [],
   "source": [
    "init = tf.global_variables_initializer()\n",
    "sess = tf.Session()\n",
    "sess.run(init)"
   ]
  },
  {
   "cell_type": "code",
   "execution_count": 7,
   "metadata": {},
   "outputs": [],
   "source": [
    "batch_size = 100\n",
    "total_batch = int(mnist.train.num_examples/batch_size)\n",
    "epochs = 15"
   ]
  },
  {
   "cell_type": "code",
   "execution_count": 8,
   "metadata": {},
   "outputs": [
    {
     "name": "stdout",
     "output_type": "stream",
     "text": [
      "Epoch: 0001 Avg.cost = 0.436\n",
      "Epoch: 0002 Avg.cost = 0.168\n",
      "Epoch: 0003 Avg.cost = 0.115\n",
      "Epoch: 0004 Avg.cost = 0.089\n",
      "Epoch: 0005 Avg.cost = 0.073\n",
      "Epoch: 0006 Avg.cost = 0.062\n",
      "Epoch: 0007 Avg.cost = 0.054\n",
      "Epoch: 0008 Avg.cost = 0.045\n",
      "Epoch: 0009 Avg.cost = 0.042\n",
      "Epoch: 0010 Avg.cost = 0.037\n",
      "Epoch: 0011 Avg.cost = 0.032\n",
      "Epoch: 0012 Avg.cost = 0.033\n",
      "Epoch: 0013 Avg.cost = 0.030\n",
      "Epoch: 0014 Avg.cost = 0.027\n",
      "Epoch: 0015 Avg.cost = 0.027\n",
      "optimization completes\n"
     ]
    }
   ],
   "source": [
    "for epoch in range(epochs):\n",
    "    total_cost = 0\n",
    "    \n",
    "    for i in range(total_batch):\n",
    "        \n",
    "        batch_xs,batch_ys = mnist.train.next_batch(batch_size)\n",
    "        _,cost_val  = sess.run([optimizer, cost],feed_dict = {X:batch_xs,Y:batch_ys,keep_prob:0.8})\n",
    "        \n",
    "        total_cost += cost_val\n",
    "        \n",
    "    print('Epoch:','%04d' % (epoch+1),'Avg.cost =','{:.3f}'.format(total_cost/total_batch))\n",
    "\n",
    "print('optimization completes')"
   ]
  },
  {
   "cell_type": "code",
   "execution_count": 9,
   "metadata": {},
   "outputs": [],
   "source": [
    "is_correct = tf.equal(tf.argmax(model,1),tf.argmax(Y,1))\n"
   ]
  },
  {
   "cell_type": "code",
   "execution_count": 10,
   "metadata": {},
   "outputs": [],
   "source": [
    "accuracy = tf.reduce_mean(tf.cast(is_correct,tf.float32))"
   ]
  },
  {
   "cell_type": "code",
   "execution_count": 11,
   "metadata": {},
   "outputs": [
    {
     "name": "stdout",
     "output_type": "stream",
     "text": [
      "accuracy 0.981\n"
     ]
    }
   ],
   "source": [
    "print('accuracy',sess.run(accuracy,feed_dict={X:mnist.test.images,Y:mnist.test.labels,keep_prob:1}))"
   ]
  },
  {
   "cell_type": "code",
   "execution_count": null,
   "metadata": {},
   "outputs": [],
   "source": []
  }
 ],
 "metadata": {
  "kernelspec": {
   "display_name": "Python 3",
   "language": "python",
   "name": "python3"
  },
  "language_info": {
   "codemirror_mode": {
    "name": "ipython",
    "version": 3
   },
   "file_extension": ".py",
   "mimetype": "text/x-python",
   "name": "python",
   "nbconvert_exporter": "python",
   "pygments_lexer": "ipython3",
   "version": "3.6.3"
  }
 },
 "nbformat": 4,
 "nbformat_minor": 2
}
